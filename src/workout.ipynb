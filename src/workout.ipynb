{
 "cells": [
  {
   "cell_type": "code",
   "execution_count": 1,
   "id": "52d5178a",
   "metadata": {},
   "outputs": [],
   "source": [
    "import numpy as np\n",
    "import json, toml  \n",
    "import json\n",
    "import matplotlib.pyplot as plt\n",
    "from shapely.geometry import Point\n",
    "from shapely.geometry.polygon import Polygon"
   ]
  },
  {
   "cell_type": "code",
   "execution_count": 2,
   "id": "66025c5d",
   "metadata": {},
   "outputs": [],
   "source": [
    "# def get_focmec(elat,elon, edep=None, Mw = None, regime= 'crust', pdf=True, focmec=None)\n",
    "# strike360 = strike%360\n",
    "# focmec_model = json.load(f)"
   ]
  },
  {
   "cell_type": "code",
   "execution_count": null,
   "id": "c4c45861",
   "metadata": {},
   "outputs": [],
   "source": [
    "def get_ntdomain(xlon, xlat, config):\n",
    "    # for a given lon, lat, return the domain\n",
    "    file = config['modelfolder'] + config['ntdomains']['file']\n",
    "    with open(file) as f:\n",
    "        ntdomains = json.load(f)\n",
    "        \n",
    "    point = Point(xlon, xlat)\n",
    "    domain = None\n",
    "\n",
    "    for dn in ntdomains.keys():\n",
    "        lons = ntdomains[dn]['lon']\n",
    "        lats = ntdomains[dn]['lat']\n",
    "        dpoints = []\n",
    "        for i in range(len(lons)):\n",
    "            dpoints.append((lons[i], lats[i]))\n",
    "        polygon = Polygon(dpoints)\n",
    "        if polygon.contains(point):\n",
    "            domain = dn\n",
    "            break;\n",
    "            \n",
    "    return domain"
   ]
  },
  {
   "cell_type": "code",
   "execution_count": 25,
   "id": "0e0165b4",
   "metadata": {},
   "outputs": [],
   "source": [
    "#---------------------------------------------------------------------------\n",
    "def get_sdrp_crust(fmodel, mag, prefmod = 'mean_all'):\n",
    "    #  \n",
    "    # prefmod can one of following:\n",
    "    # 'case1', 'case2', 'mean_case1', 'mean_case2', 'all', 'mean_all'\n",
    "    # \n",
    "    \n",
    "    if mag is None:\n",
    "         raise Exception(\"Mag cannot be None\")\n",
    "    \n",
    "    def isequal_fm(fm1, fm2):\n",
    "        #fm = sdrp \n",
    "        for x1, x2 in zip(fm1, fm2):\n",
    "            if x1!=x2: return False\n",
    "        return True\n",
    "   \n",
    "    if prefmod in ['case1','case2']:\n",
    "        tag = '>15' if mag<=7.5 else '>45'\n",
    "        if tag not in fmodel[prefmod].keys():\n",
    "            tag = '>15'      \n",
    "        #\n",
    "        strike = fmodel[prefmod][tag]['strikeAn']\n",
    "        dip = fmodel[prefmod][tag]['dipAn']\n",
    "        rake = fmodel[prefmod][tag]['rakeAn']\n",
    "        prob = fmodel[prefmod][tag]['prob']\n",
    "        sdrp = []\n",
    "        for s,d,r,p in zip(strike, dip, rake, prob):\n",
    "            sdrp.append([s,d,r,p])\n",
    "            \n",
    "        return sdrp\n",
    "    \n",
    "    elif prefmod in ['mean_case1','mean_case2']:\n",
    "        # flength_tag = ['>15', '>15', '>45']\n",
    "        pmod = prefmod[-5:]  # i.e. \"case1\" if \"mean_case1\"\n",
    "        tag = '>15' if mag<=7.5 else '>45'\n",
    "        if tag not in fmodel[pmod].keys():\n",
    "            tag = '>15'  \n",
    "        #\n",
    "        strike = fmodel[pmod][tag]['strikeAn']\n",
    "        dip = fmodel[pmod][tag]['dipAn']\n",
    "        rake = fmodel[pmod][tag]['rakeAn']\n",
    "        prob = fmodel[pmod][tag]['prob']\n",
    "        mind = prob.index(max(prob))\n",
    "        sdrp = [[strike[mind], dip[mind], rake[mind], 1.0],]\n",
    "        return sdrp\n",
    "    \n",
    "    elif prefmod in ['all','mean_all']:\n",
    "        if prefmod=='all':\n",
    "            sdrp1 = get_sdrp_crust(fmodel, mag, prefmod = 'case1')\n",
    "            sdrp2 = get_sdrp_crust(fmodel, mag, prefmod = 'case2')\n",
    "        else:\n",
    "            sdrp1 = get_sdrp_crust(fmodel, mag, prefmod = 'mean_case1')\n",
    "            sdrp2 = get_sdrp_crust(fmodel, mag, prefmod = 'mean_case2')\n",
    "        \n",
    "        if isequal_fm(sdrp1, sdrp2):\n",
    "            sdrp = sdrp1\n",
    "        else:\n",
    "            sdrp = []\n",
    "            for x in sdrp2:\n",
    "                sdrp1.append(x)\n",
    "            for x in sdrp1:\n",
    "                sdrp.append([x[0],x[1], x[2], x[3]*0.5]) \n",
    "        \n",
    "        return sdrp\n",
    "    \n",
    "    raise Exception(\"prefmod  should be either 'case1', \\\n",
    "                'case2','mean_case1','mean_case2','all', or 'mean_all'\")"
   ]
  },
  {
   "cell_type": "code",
   "execution_count": 26,
   "id": "3f03274a",
   "metadata": {
    "scrolled": true
   },
   "outputs": [],
   "source": [
    "def get_sdrp(elon,elat, edep=None, Mw = None, regime= 'crust', \\\n",
    "               preferred_model = 'mean_all', modelfolder = '../',\n",
    "               config_file = 'models/nz-focmec_v1.ini'):\n",
    "    # load config\n",
    "    config = toml.load(modelfolder+config_file)\n",
    "    config['modelfolder'] = modelfolder\n",
    "    regime = regime.lower()\n",
    "    # if-else is faster than select\n",
    "    if regime == 'crust':\n",
    "        # locate ntdomain\n",
    "        dom = get_ntdomain(elon, elat, config)\n",
    "        with open(modelfolder+config[regime]['file']) as f:\n",
    "            focmod = json.load(f)\n",
    "        if dom is None:\n",
    "            raise Exception(\"Lon, Lat is outside the domain.\")\n",
    "        else:\n",
    "            sdrp = get_sdrp_crust(focmod[dom], Mw, prefmod = preferred_model)            \n",
    "    elif regime=='slab':\n",
    "        # identify subduction zone \n",
    "        \n",
    "        with open(modelfolder+file) as f:\n",
    "            mod = json.load(f)\n",
    "        pass\n",
    "    elif regime=='interface':\n",
    "        # identify subduction zone \n",
    "        pass\n",
    "    else:    \n",
    "        raise Exception(\"regime should be either 'crust','slab' or 'interface'\")\n",
    "        \n",
    "    \n",
    "\n",
    "        "
   ]
  },
  {
   "cell_type": "code",
   "execution_count": 27,
   "id": "2e8b1f25",
   "metadata": {},
   "outputs": [
    {
     "name": "stdout",
     "output_type": "stream",
     "text": [
      "[[220, 45, 115, 1.0]]\n"
     ]
    }
   ],
   "source": [
    "get_focmec(170, -45, edep=None, Mw = 6, regime= 'crust', \\\n",
    "               preferred_model = 'mean_all', pdf=True, focmec=None,)"
   ]
  },
  {
   "cell_type": "code",
   "execution_count": 24,
   "id": "ea7e8056",
   "metadata": {},
   "outputs": [
    {
     "ename": "SyntaxError",
     "evalue": "invalid syntax (3954234837.py, line 2)",
     "output_type": "error",
     "traceback": [
      "\u001b[0;36m  File \u001b[0;32m\"/tmp/ipykernel_521270/3954234837.py\"\u001b[0;36m, line \u001b[0;32m2\u001b[0m\n\u001b[0;31m    focfile = /home/kirant/thinglap/GitHubRepo/nz-focmec/models/slab/nz-slab-focmec.json\u001b[0m\n\u001b[0m              ^\u001b[0m\n\u001b[0;31mSyntaxError\u001b[0m\u001b[0;31m:\u001b[0m invalid syntax\n"
     ]
    }
   ],
   "source": [
    "pdf=True, focmec=None,\n",
    "# slab\n",
    "focfile = /home/kirant/thinglap/GitHubRepo/nz-focmec/models/slab/nz-slab-focmec.json\n",
    "\n",
    "focmec_model = json.load(f)\n",
    "\n",
    "# Focal-mechanism model or NodalPlaneDistribution\n",
    "# faulting_model has items that can be either of three:\n",
    "#    (1) dictionary - fm, pref\n",
    "#    (2) interpolator of strike and dip, where rake = 90\n",
    "#    (3) dictionary with keys - strike dip rake probability\n",
    "# It may also make sense to organize the fochal mechanism according to regimes\n",
    "\n",
    "\n",
    "[slab]\n",
    "# the json format is:\n",
    "# szone: {dep: [[s1, d1, r1, p1], [s2, d2, r2, p2], .... ]}\n",
    "# See Model-development/9RuptureGeometry/workout-sdrp-slabrupgeom\n",
    "file = 'components/faulting_model/slab-faulting2.json'\n",
    "magbins = [[5.0, 6.5], [6.6, 8.15]]\n"
   ]
  },
  {
   "cell_type": "code",
   "execution_count": null,
   "id": "7d370342",
   "metadata": {},
   "outputs": [],
   "source": []
  }
 ],
 "metadata": {
  "kernelspec": {
   "display_name": "Python 3 (ipykernel)",
   "language": "python",
   "name": "python3"
  },
  "language_info": {
   "codemirror_mode": {
    "name": "ipython",
    "version": 3
   },
   "file_extension": ".py",
   "mimetype": "text/x-python",
   "name": "python",
   "nbconvert_exporter": "python",
   "pygments_lexer": "ipython3",
   "version": "3.8.12"
  }
 },
 "nbformat": 4,
 "nbformat_minor": 5
}
